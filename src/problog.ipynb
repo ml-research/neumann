{
 "cells": [
  {
   "cell_type": "code",
   "execution_count": 7,
   "metadata": {},
   "outputs": [],
   "source": [
    "from problog.program import PrologString\n",
    "from problog.core import ProbLog\n",
    "from problog import get_evaluatable"
   ]
  },
  {
   "cell_type": "code",
   "execution_count": 13,
   "metadata": {},
   "outputs": [],
   "source": [
    "p = PrologString(\"\"\"\n",
    "0.98::in(obj1,img).\n",
    "0.98::color(obj1,red).\n",
    "0.98::shape(obj1,square).\n",
    "kp(X):-in(O1,X),color(O1,red),shape(O1,square).\n",
    "query(kp(img)).\n",
    "\"\"\")"
   ]
  },
  {
   "cell_type": "code",
   "execution_count": 18,
   "metadata": {},
   "outputs": [],
   "source": [
    "for i in range(100):\n",
    "    p = PrologString(\"\"\"\n",
    "0.99::color(obj0,red).\n",
    "0.99::color(obj1,red).\n",
    "0.99::color(obj2,red).\n",
    "0.99::color(obj3,blue).\n",
    "1.0::diff_color(blue,red).\n",
    "1.0::diff_color(blue,yellow).\n",
    "1.0::diff_color(red,blue).\n",
    "1.0::diff_color(red,yellow).\n",
    "1.0::diff_color(yellow,blue).\n",
    "1.0::diff_color(yellow,red).\n",
    "1.0::diff_shape(circle,square).\n",
    "1.0::diff_shape(circle,triangle).\n",
    "1.0::diff_shape(square,circle).\n",
    "1.0::diff_shape(square,triangle).\n",
    "1.0::diff_shape(triangle,circle).\n",
    "1.0::diff_shape(triangle,square).\n",
    "0.99::in(obj0,img).\n",
    "0.99::in(obj1,img).\n",
    "0.99::in(obj2,img).\n",
    "0.99::in(obj3,img).\n",
    "0.99::shape(obj0,triangle).\n",
    "0.99::shape(obj1,triangle).\n",
    "0.99::shape(obj2,triangle).\n",
    "0.99::shape(obj3,square).\n",
    "kp(X):-in(O1,X),in(O2,X),in(O3,X),in(O4,X),same_shape_pair(O1,O2),same_color_pair(O1,O2),diff_color_pair(O3,O4),same_shape_pair(O3,O4).\n",
    "same_shape_pair(X,Y):-shape(X,Z),shape(Y,Z).\n",
    "same_color_pair(X,Y):-color(X,Z),color(Y,Z).\n",
    "diff_shape_pair(X,Y):-shape(X,Z),shape(Y,W),diff_shape(Z,W).\n",
    "diff_color_pair(X,Y):-color(X,Z),color(Y,W),diff_color(Z,W).\n",
    "query(kp(img)).\n",
    "\"\"\")"
   ]
  },
  {
   "cell_type": "code",
   "execution_count": 19,
   "metadata": {},
   "outputs": [],
   "source": [
    "\n",
    "for i in range(100):\n",
    "    get_evaluatable().create_from(p).evaluate()\n"
   ]
  },
  {
   "cell_type": "code",
   "execution_count": null,
   "metadata": {},
   "outputs": [],
   "source": []
  }
 ],
 "metadata": {
  "kernelspec": {
   "display_name": "base",
   "language": "python",
   "name": "python3"
  },
  "language_info": {
   "codemirror_mode": {
    "name": "ipython",
    "version": 3
   },
   "file_extension": ".py",
   "mimetype": "text/x-python",
   "name": "python",
   "nbconvert_exporter": "python",
   "pygments_lexer": "ipython3",
   "version": "3.8.12"
  },
  "orig_nbformat": 4
 },
 "nbformat": 4,
 "nbformat_minor": 2
}
